{
  "nbformat": 4,
  "nbformat_minor": 0,
  "metadata": {
    "colab": {
      "name": "1 _Conceptos_basicos.ipynb",
      "provenance": []
    },
    "kernelspec": {
      "name": "python3",
      "display_name": "Python 3"
    },
    "language_info": {
      "name": "python"
    }
  },
  "cells": [
    {
      "cell_type": "markdown",
      "metadata": {
        "id": "x8csGy_3UzP2"
      },
      "source": [
        "<center>\n",
        " <h1> Introducción a la programación gelogica con python </h1>\n",
        " <h3>clase 1 : conceptos de programación </h3>\n",
        "Bogotá 2021 \n",
        "</center>\n",
        "\n",
        "Contenido \n",
        "\n",
        "- Qué es la programacion ?  *5*\n",
        "- Por qué Programar orientado a la geologia ? *5*\n",
        "- Que es python ? *10*\n",
        "- Entorno de desarrollo colab *15*\n",
        "- Conceptos basicos de programacion *45*\n",
        "  - Variable *5*\n",
        "  - Tipos de variables *15*\n",
        "  - Funciones propias de python  (print and input) *5*\n",
        "  - Operacion con variables *15*\n",
        "  - buena practicas *5*\n",
        "- Descanso 10 min \n",
        "- Condicionales *50* \n",
        "  - operadores logicos (or , and ) *30*\n",
        "  - condicional if *10*\n",
        "  - condicional else *10*\n",
        "- Ejemplos\n",
        "  - Clasificacion de roca (5 min )\n",
        "  - Formulario Geologico (5 min ) \n",
        "  - Graficacion diagrama Ternario (20)\n",
        "\n",
        "\n",
        "---\n",
        "\n",
        "# Que es la programacion ? \n",
        "\n",
        "<center><img src=\"https://images.squarespace-cdn.com/content/v1/521e95f4e4b01c5870ce81cf/1555015636014-9R3OLS4QBSL9KVIS5KI0/3DStructuralGeologicalModelinginPythonwithGempy.png?format=750w\"\n",
        "     alt=\"imagen Geologicsa\"\n",
        "     style=\"float: left; margin-right: 10px;\" \n",
        "     width=\"600\" height=\"350\"\n",
        "     />\n",
        "</center>\n",
        "\n",
        "#  Por que es util en geologia ?\n",
        "\n",
        "<center>\n",
        "<img src=\"https://www.researchgate.net/publication/328024801/figure/fig2/AS:868370329112576@1584047028681/Stereonet-of-mapped-orientation-data-and-interpreted-fracture-sets-modified-from-King.jpg\"\n",
        "     alt=\"imagen Geologicsa\"\n",
        "     style=\"float: left; margin-right: 10px;\"\n",
        "     width=\"600\" height=\"520\"\n",
        "      />\n",
        "</center>\n",
        "\n",
        "\n",
        "#  Por que es util en geologia ?\n",
        "\n",
        "<center>\n",
        "<img src=\"https://miro.medium.com/max/2000/1*HOmFE7feOOKLFd8hXmvvBw.png\"\n",
        "     alt=\"imagen Geologicsa\"\n",
        "     style=\"float: left; margin-right: 10px;\"\n",
        "     width=\"600\" height=\"320\"\n",
        "      />\n",
        "</center>"
      ]
    },
    {
      "cell_type": "code",
      "metadata": {
        "id": "ttn99rpXnjll"
      },
      "source": [
        "Nombre_geologo = 'Juan Pedro'\n",
        "edad = '15 años'\n",
        "enfoque = 'hkdsfkjhdfs'\n",
        "Se_baño_hoy = 'si'\n",
        "\n"
      ],
      "execution_count": null,
      "outputs": []
    },
    {
      "cell_type": "markdown",
      "metadata": {
        "id": "amm6Eq-eU7wE"
      },
      "source": [
        " Bibliografia\n",
        "\n",
        "- [Gempy](https://hatarilabs.com/ih-en/basic-tutorial-of-geological-modeling-with-python-and-gempy)\n",
        "-[Ternary](https://agilescientific.com/blog/2019/3/21/x-lines-of-python-ternary-diagrams)\n",
        "\n",
        "\n",
        "\n",
        "Referencias \n",
        "- [1] [modelamiento Estrucural](https://gidahatari.com/ih-es/modelamiento-geologico-estructural-3d-en-python-con-gempy-tutorial)\n",
        "\n",
        "\n",
        " - [2] [stereo net](https://www.researchgate.net/figure/Stereonet-of-mapped-orientation-data-and-interpreted-fracture-sets-modified-from-King_fig2_328024801) "
      ]
    }
  ]
}